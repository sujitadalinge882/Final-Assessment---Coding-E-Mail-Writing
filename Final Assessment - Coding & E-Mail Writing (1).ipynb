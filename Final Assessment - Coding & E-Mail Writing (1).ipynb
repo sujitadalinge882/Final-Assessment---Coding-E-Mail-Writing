{
 "cells": [
  {
   "cell_type": "code",
   "execution_count": 1,
   "id": "2a0c03fa",
   "metadata": {},
   "outputs": [
    {
     "name": "stdout",
     "output_type": "stream",
     "text": [
      "6\n",
      "1\n",
      "5\n",
      "2\n",
      "4\n",
      "3\n"
     ]
    }
   ],
   "source": [
    "def find_len(list1):\n",
    "    length = len(list1)\n",
    "    list1.sort()\n",
    "    print(list1[length-1])\n",
    "    print(list1[0])\n",
    "    print(list1[length-2])\n",
    "    print(list1[1])\n",
    "    print(list1[3])\n",
    "    print(list1[2])\n",
    "# Driver Code\n",
    "list1=[1, 2, 3, 4, 5, 6]\n",
    "Largest = find_len(list1)"
   ]
  },
  {
   "cell_type": "code",
   "execution_count": 2,
   "id": "6ba05913",
   "metadata": {},
   "outputs": [
    {
     "name": "stdout",
     "output_type": "stream",
     "text": [
      "How many terms? 7\n",
      "Fibonacci sequence:\n",
      "0\n",
      "1\n",
      "1\n",
      "2\n",
      "3\n",
      "5\n",
      "8\n"
     ]
    }
   ],
   "source": [
    "nterms = int(input(\"How many terms? \"))\n",
    "\n",
    "# first two terms\n",
    "n1, n2 = 0, 1\n",
    "count = 0\n",
    "\n",
    "# check if the number of terms is valid\n",
    "if nterms <= 0:\n",
    "   print(\"Please enter a positive integer\")\n",
    "# if there is only one term, return n1\n",
    "elif nterms == 1:\n",
    "   print(\"Fibonacci sequence upto\",nterms,\":\")\n",
    "   print(n1)\n",
    "# generate fibonacci sequence\n",
    "else:\n",
    "   print(\"Fibonacci sequence:\")\n",
    "   while count < nterms:\n",
    "       print(n1)\n",
    "       nth = n1 + n2\n",
    "       # update values\n",
    "       n1 = n2\n",
    "       n2 = nth\n",
    "       count += 1"
   ]
  },
  {
   "cell_type": "code",
   "execution_count": null,
   "id": "9934c7d0",
   "metadata": {},
   "outputs": [],
   "source": [
    "##Write an email for this scenario, \" The package that you expected is 6 LPA, You were offered 5 LPA \" Write the email to the HR on negotiating on the Package.\n",
    "\n",
    "Hi [HR],\n",
    "\n",
    "My name is Sujit, and I’ve a long-term admirer of the work tata motars is doing. I recently followed with interest [recent company or industry developments].\n",
    "\n",
    "I’m a [describe your position] at [Your Company].  The package that you expected is 6 LPA, You were offered 5 LPA Please  confirm and sure me about that\n",
    "\n",
    "Sujit Adalinge\n",
    "\n",
    "\n",
    "\n"
   ]
  },
  {
   "cell_type": "code",
   "execution_count": null,
   "id": "05e4f63c",
   "metadata": {},
   "outputs": [],
   "source": [
    "##Email 2 - Write an email for this scenario. \" You got the interview timings for your next interview for tomorrow 10AM\" How would you acknowledge the e-mail\n",
    "\n",
    " \n",
    "HI, (HR of company)\n",
    "      My name is Sujit, and I’ve a long-term admirer of the work tata motars is doing. I recently followed with interest [recent company or industry developments].\n",
    "\n",
    "I’m a [describe your position] at [Your Company].\n",
    "I got the interview timings for your next interview for tomorrow 10AM.Please can you manage it by your side.its a humble request from me.\n",
    "\n",
    "Thank you, \n",
    "Sujit.\n",
    "\n",
    "\n",
    "\n",
    "\n",
    "\n",
    "\n"
   ]
  },
  {
   "cell_type": "code",
   "execution_count": null,
   "id": "a5b4bde9",
   "metadata": {},
   "outputs": [],
   "source": [
    "##Write an email for this scenario. \" You applied for a job. Your 2nd round of the interview is done, but you did not get any updates for the past 10 days \" Send an email for asking about the updates.Write an email for this scenario. \" You applied for a job. Your 2nd round of the interview is done, but you did not get any updates for the past 10 days \" Send an email for asking about the updates.\n",
    "      \n",
    "\n",
    "\n",
    "HI, (HR of company)\n",
    "      My name is Sujit, and I’ve a long-term admirer of the work tata motars is doing. I recently followed with interest [recent company or industry developments].\n",
    "\n",
    "I’m a [describe your position] at [Your Company].\n",
    "\n",
    "i applied for a job. my 2nd round of the interview is done, but i did not get any updates fromm 10 days.\n",
    "please check it and inform me.\n",
    "\n",
    "Sujit\n"
   ]
  },
  {
   "cell_type": "code",
   "execution_count": null,
   "id": "e5f12a52",
   "metadata": {},
   "outputs": [],
   "source": [
    "##Write an email for this scenario \" You gave the HR interview of a company, but you did not get shortlisted\". Write an email to the HR of the company asking for the reason of not getting shortlisted.\n",
    "\n",
    "HI, (HR of company)\n",
    "      My name is Sujit, and I’ve a long-term admirer of the work tata motars is doing. I recently followed with interest [recent company or industry developments].\n",
    "\n",
    "I’m a [describe your position] at [Your Company].\n",
    "I gave the HR interview of a company, but I did not get shortlisted.\n",
    "Pease let me know about that.\n",
    "\n",
    "Sujit Adalinge\n",
    "\n",
    "\n"
   ]
  },
  {
   "cell_type": "code",
   "execution_count": null,
   "id": "30d3a1e3",
   "metadata": {},
   "outputs": [],
   "source": []
  },
  {
   "cell_type": "code",
   "execution_count": null,
   "id": "a3dbfc21",
   "metadata": {},
   "outputs": [],
   "source": []
  }
 ],
 "metadata": {
  "kernelspec": {
   "display_name": "Python 3 (ipykernel)",
   "language": "python",
   "name": "python3"
  },
  "language_info": {
   "codemirror_mode": {
    "name": "ipython",
    "version": 3
   },
   "file_extension": ".py",
   "mimetype": "text/x-python",
   "name": "python",
   "nbconvert_exporter": "python",
   "pygments_lexer": "ipython3",
   "version": "3.9.12"
  }
 },
 "nbformat": 4,
 "nbformat_minor": 5
}
