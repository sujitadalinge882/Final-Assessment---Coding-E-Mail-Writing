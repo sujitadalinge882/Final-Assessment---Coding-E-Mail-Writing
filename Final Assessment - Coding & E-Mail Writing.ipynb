{
 "cells": [
  {
   "cell_type": "code",
   "execution_count": 36,
   "id": "266f8c0d",
   "metadata": {},
   "outputs": [
    {
     "name": "stdout",
     "output_type": "stream",
     "text": [
      "6\n",
      "1\n",
      "5\n",
      "2\n",
      "4\n",
      "3\n"
     ]
    }
   ],
   "source": [
    "def find_len(list1):\n",
    "    length = len(list1)\n",
    "    list1.sort()\n",
    "    print(list1[length-1])\n",
    "    print(list1[0])\n",
    "    print(list1[length-2])\n",
    "    print(list1[1])\n",
    "    print(list1[3])\n",
    "    print(list1[2])\n",
    "# Driver Code\n",
    "list1=[1, 2, 3, 4, 5, 6]\n",
    "Largest = find_len(list1)"
   ]
  },
  {
   "cell_type": "code",
   "execution_count": null,
   "id": "7a274e35",
   "metadata": {},
   "outputs": [],
   "source": []
  }
 ],
 "metadata": {
  "kernelspec": {
   "display_name": "Python 3 (ipykernel)",
   "language": "python",
   "name": "python3"
  },
  "language_info": {
   "codemirror_mode": {
    "name": "ipython",
    "version": 3
   },
   "file_extension": ".py",
   "mimetype": "text/x-python",
   "name": "python",
   "nbconvert_exporter": "python",
   "pygments_lexer": "ipython3",
   "version": "3.9.12"
  }
 },
 "nbformat": 4,
 "nbformat_minor": 5
}
